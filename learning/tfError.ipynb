{
 "metadata": {
  "language_info": {
   "codemirror_mode": {
    "name": "ipython",
    "version": 3
   },
   "file_extension": ".py",
   "mimetype": "text/x-python",
   "name": "python",
   "nbconvert_exporter": "python",
   "pygments_lexer": "ipython3",
   "version": 3
  },
  "orig_nbformat": 2
 },
 "nbformat": 4,
 "nbformat_minor": 2,
 "cells": [
  {
   "cell_type": "markdown",
   "metadata": {},
   "source": [
    "RLIMIT_NPROC 4096 current, 8192 max\n",
    "-\n",
    "This happens when the program spawned too many threads (limit set in the server with ulimit), for example with FFMPEG reading audio.\n",
    "\n",
    "\n",
    "Check failed: ret == 0 (11 vs. 0)Thread creation via pthread_create() failed.\n",
    "-\n",
    "\n",
    "\n",
    "LLVM ERROR: out of memory\n",
    "-\n",
    "This error was removed when updating from tf 2.2 to 2.3\n",
    "\n",
    "tensorflow terminate called after throwing an instance of 'std::bad_alloc'\n",
    "-\n",
    "\n",
    "\n",
    "\n"
   ]
  },
  {
   "cell_type": "code",
   "execution_count": null,
   "metadata": {},
   "outputs": [],
   "source": []
  }
 ]
}