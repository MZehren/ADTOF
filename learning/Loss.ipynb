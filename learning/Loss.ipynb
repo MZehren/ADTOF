{
 "cells": [
  {
   "cell_type": "markdown",
   "metadata": {},
   "source": [
    "see: https://gombru.github.io/2018/05/23/cross_entropy_loss/"
   ]
  },
  {
   "cell_type": "markdown",
   "metadata": {},
   "source": [
    "binary_crossentropy\n",
    "---\n",
    "\n"
   ]
  },
  {
   "cell_type": "markdown",
   "metadata": {},
   "source": [
    "sigmoid_cross_entropy_with_logits\n",
    "---"
   ]
  },
  {
   "cell_type": "code",
   "execution_count": 20,
   "metadata": {},
   "outputs": [],
   "source": [
    "import matplotlib.pyplot as plt\n",
    "import numpy as np"
   ]
  },
  {
   "cell_type": "code",
   "execution_count": 21,
   "metadata": {},
   "outputs": [
    {
     "data": {
      "text/plain": [
       "[<matplotlib.lines.Line2D at 0x1b545e31a20>]"
      ]
     },
     "execution_count": 21,
     "metadata": {},
     "output_type": "execute_result"
    },
    {
     "data": {
      "image/png": "[encoded data removed]",
      "text/plain": [
       "<Figure size 432x288 with 1 Axes>"
      ]
     },
     "metadata": {
      "needs_background": "light"
     },
     "output_type": "display_data"
    }
   ],
   "source": [
    "\"\"\"\n",
    "sigmoid\n",
    "\n",
    "It squashes a vector in the range (0, 1). It is applied independently to each element. It’s also called logistic function.\n",
    "\"\"\"\n",
    "\n",
    "def sigmoid(x):\n",
    "    return 1/(1+np.exp(-x))\n",
    "\n",
    "plt.plot([sigmoid(x) for x in range(-5,5)])"
   ]
  },
  {
   "cell_type": "code",
   "execution_count": 26,
   "metadata": {},
   "outputs": [
    {
     "data": {
      "text/plain": [
       "array([0.00247262, 0.99752738])"
      ]
     },
     "execution_count": 26,
     "metadata": {},
     "output_type": "execute_result"
    }
   ],
   "source": [
    "\"\"\"\n",
    "softmax, this is not a loss. \n",
    "\n",
    "It's a function which depend on the other output of the layer\n",
    "\"\"\"\n",
    "def softmax(vector):\n",
    "    exp = np.exp(vector)\n",
    "    sum = np.sum(exp)\n",
    "    return exp/sum\n",
    "\n",
    "softmax([-5, 1])"
   ]
  },
  {
   "cell_type": "code",
   "execution_count": 39,
   "metadata": {},
   "outputs": [
    {
     "name": "stderr",
     "output_type": "stream",
     "text": [
      "c:\\users\\beurg\\appdata\\local\\programs\\python\\python35\\lib\\site-packages\\ipykernel_launcher.py:10: RuntimeWarning: divide by zero encountered in log\n",
      "  # Remove the CWD from sys.path while we load stuff.\n"
     ]
    },
    {
     "data": {
      "image/png": "[encoded data removed]",
      "text/plain": [
       "<Figure size 432x288 with 1 Axes>"
      ]
     },
     "metadata": {
      "needs_background": "light"
     },
     "output_type": "display_data"
    },
    {
     "name": "stdout",
     "output_type": "stream",
     "text": [
      "-0.0\n"
     ]
    }
   ],
   "source": [
    "\"\"\"\n",
    "Cross-Entropy loss\n",
    "Logistic loss (log_loss)\n",
    "Multinomial logistic loss\n",
    "\n",
    "One way to interpret cross-entropy is to see it as a (minus) log-likelihood for the data y′i, under a model yi.\n",
    "log-likelyhood is the natular logarithm of the likelihood:\n",
    "\n",
    "\"\"\"\n",
    "plt.plot([np.log(x) for x in range(10)])\n",
    "plt.show()\n",
    "\n",
    "def cross_entropy(y_true, y_pred):\n",
    "    return -np.sum(y_true*np.log(y_pred))\n",
    "\n",
    "print(cross_entropy([1,1,0], [1, 1, 1]))"
   ]
  },
  {
   "cell_type": "code",
   "execution_count": 40,
   "metadata": {},
   "outputs": [
    {
     "name": "stdout",
     "output_type": "stream",
     "text": [
      "0.6802696706417346\n"
     ]
    }
   ],
   "source": [
    "\"\"\"\n",
    "Categorical cross-entropy loss\n",
    "Softmax Loss \n",
    "softmax_cross_entropy\n",
    "\n",
    "It is a Softmax activation plus a Cross-Entropy loss. -> it is used for multiclass classifciation\n",
    "\"\"\"\n",
    "\n",
    "def categorical_cross_entropy(y_true, y_pred):\n",
    "    return cross_entropy(y_true, softmax(y_pred))\n",
    "\n",
    "print(categorical_cross_entropy([0,0,1],[0,0.5,1]))\n"
   ]
  },
  {
   "cell_type": "code",
   "execution_count": 44,
   "metadata": {},
   "outputs": [
    {
     "name": "stdout",
     "output_type": "stream",
     "text": [
      "[1.3132616875182228, 0.9740769841801068, 0.3132616875182228]\n"
     ]
    }
   ],
   "source": [
    "\"\"\"\n",
    "Binary Cross-Entropy Loss\n",
    "Sigmoid Cross-Entropy loss\n",
    "\n",
    "It is a Sigmoid activation plus a Cross-Entropy loss. Unlike Softmax loss it is independent for each vector component (class),\n",
    "meaning that the loss computed for every CNN output vector component is not affected by other component values. That’s why it \n",
    "is used for multi-label classification, were the insight of an element belonging to a certain class should not influence the \n",
    "decision for another class. It’s called Binary Cross-Entropy Loss because it sets up a binary classification problem between \n",
    "C′=2 classes for every class in C.\n",
    "\n",
    "\"\"\"\n",
    "\n",
    "def binary_cross_entropy(y_true, y_pred):\n",
    "    \n",
    "    return [-np.log(sigmoid(y_pred[i])) if y_true[i] else -np.log(1-sigmoid(y_pred[i])) for i,_ in enumerate(y_pred)]\n",
    "\n",
    "print(binary_cross_entropy([0,0,1],[1,0.5,1]))\n"
   ]
  },
  {
   "cell_type": "code",
   "execution_count": null,
   "metadata": {},
   "outputs": [],
   "source": []
  }
 ],
 "metadata": {
  "kernelspec": {
   "display_name": "Python 3",
   "language": "python",
   "name": "python3"
  },
  "language_info": {
   "codemirror_mode": {
    "name": "ipython",
    "version": 3
   },
   "file_extension": ".py",
   "mimetype": "text/x-python",
   "name": "python",
   "nbconvert_exporter": "python",
   "pygments_lexer": "ipython3",
   "version": "3.5.2"
  }
 },
 "nbformat": 4,
 "nbformat_minor": 2
}
