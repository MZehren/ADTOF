{
 "cells": [
  {
   "cell_type": "markdown",
   "metadata": {},
   "source": [
    "why all the training values don't appear on TensorBoard ?\n",
    "---\n",
    "\n",
    "test with : profile_batch=0\n",
    "or maybe it's because some data was already there..\n",
    "\n"
   ]
  },
  {
   "cell_type": "markdown",
   "metadata": {},
   "source": [
    "Why the weights are not loaded all the time when relauching the software?\n",
    "---\n",
    "\n",
    "see: https://www.tensorflow.org/api_docs/python/tf/keras/callbacks/ModelCheckpoint\n",
    "\n",
    "`ModelCheckpoint(load_weights_on_restart=True)` only works when calling `model.fit.`\n",
    "\n",
    "Use `model.load_weights(latest)` when using `model.predict(x)`\n",
    "\n"
   ]
  },
  {
   "cell_type": "code",
   "execution_count": null,
   "metadata": {},
   "outputs": [],
   "source": []
  }
 ],
 "metadata": {
  "kernelspec": {
   "display_name": "Python 3",
   "language": "python",
   "name": "python3"
  },
  "language_info": {
   "codemirror_mode": {
    "name": "ipython",
    "version": 3
   },
   "file_extension": ".py",
   "mimetype": "text/x-python",
   "name": "python",
   "nbconvert_exporter": "python",
   "pygments_lexer": "ipython3",
   "version": "3.6.8"
  }
 },
 "nbformat": 4,
 "nbformat_minor": 2
}
