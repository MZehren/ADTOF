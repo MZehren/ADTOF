{
 "cells": [
  {
   "cell_type": "code",
   "execution_count": 1,
   "metadata": {},
   "outputs": [],
   "source": [
    "from automix.model.inputOutput.downloader import downloaders\n",
    "import csv"
   ]
  },
  {
   "cell_type": "code",
   "execution_count": null,
   "metadata": {
    "scrolled": true
   },
   "outputs": [
    {
     "name": "stdout",
     "output_type": "stream",
     "text": [
      "[youtube] Oz5tTmdSJSc: Downloading webpage\n",
      "[youtube] Oz5tTmdSJSc: Downloading video info webpage\n",
      "[youtube] Oz5tTmdSJSc: Downloading js player vflBg-eSP\n",
      "[youtube] Oz5tTmdSJSc: Downloading js player vflBg-eSP\n",
      "[youtube] Oz5tTmdSJSc: Downloading MPD manifest\n",
      "[dashsegments] Total fragments: 34\n",
      "[download] Destination: /home/mickael/Documents/Datasets/drumsTranscription/ADTOF/Transcriptions [By Alex Rudinger]/01 AALAnimals As Leaders - Tempting Time.webm\n",
      "[download] 100% of 5.11MiB in 00:09.76MiB/s ETA 00:00045\n",
      "[ffmpeg] Destination: /home/mickael/Documents/Datasets/drumsTranscription/ADTOF/Transcriptions [By Alex Rudinger]/01 AALAnimals As Leaders - Tempting Time.mp3\n",
      "Deleting original file /home/mickael/Documents/Datasets/drumsTranscription/ADTOF/Transcriptions [By Alex Rudinger]/01 AALAnimals As Leaders - Tempting Time.webm (pass -k to keep)\n",
      "['01 AAL', '01 Tempting Time', 'https://www.youtube.com/watch?v=Oz5tTmdSJSc', ''] downloaded !\n",
      "[youtube] MzqaPfD0mGY: Downloading webpage\n",
      "[youtube] MzqaPfD0mGY: Downloading video info webpage\n",
      "[download] Destination: /home/mickael/Documents/Datasets/drumsTranscription/ADTOF/Transcriptions [By Alex Rudinger]/01 AALANIMALS AS LEADERS - Tempting Time (Live from Nashville).webm\n",
      "[download] 100% of 4.88MiB in 00:0060MiB/s ETA 00:007\n",
      "[ffmpeg] Destination: /home/mickael/Documents/Datasets/drumsTranscription/ADTOF/Transcriptions [By Alex Rudinger]/01 AALANIMALS AS LEADERS - Tempting Time (Live from Nashville).mp3\n",
      "Deleting original file /home/mickael/Documents/Datasets/drumsTranscription/ADTOF/Transcriptions [By Alex Rudinger]/01 AALANIMALS AS LEADERS - Tempting Time (Live from Nashville).webm (pass -k to keep)\n",
      "['', '', 'https://www.youtube.com/watch?v=MzqaPfD0mGY', ''] downloaded !\n",
      "[youtube] T27VWiFhUNY: Downloading webpage\n",
      "https://www.youtube.com/watch?v=T27VWiFhUNY not working\n",
      "[youtube] lTbu5yMkOQ8: Downloading webpage\n",
      "[youtube] lTbu5yMkOQ8: Downloading video info webpage\n",
      "[download] Destination: /home/mickael/Documents/Datasets/drumsTranscription/ADTOF/Transcriptions [By Alex Rudinger]/01 AALAnimals as Leaders - Do Not Go Gently (1080p).webm\n",
      "[download] 100% of 3.63MiB in 00:0093MiB/s ETA 00:005\n",
      "[ffmpeg] Destination: /home/mickael/Documents/Datasets/drumsTranscription/ADTOF/Transcriptions [By Alex Rudinger]/01 AALAnimals as Leaders - Do Not Go Gently (1080p).mp3\n",
      "https://www.youtube.com/watch?v=lTbu5yMkOQ8 not working\n",
      "[youtube] gmJwZOn5BgE: Downloading webpage\n",
      "[youtube] gmJwZOn5BgE: Downloading video info webpage\n",
      "https://www.youtube.com/watch?v=gmJwZOn5BgE not working\n",
      "https://www.youtube.com/watch?v=n7vmMuTOpyk not working\n",
      "https://www.youtube.com/watch?v=BqspUltAOf8 not working\n",
      "https://www.youtube.com/watch?v=shIE2TrXnKM not working\n",
      "https://www.youtube.com/watch?v=93yMSIntIVU not working\n",
      "https://www.youtube.com/watch?v=Fbo1tQyi9KE not working\n",
      "[youtube] xYbu9YRzD3Y: Downloading webpage\n",
      "https://www.youtube.com/watch?v=xYbu9YRzD3Y not working\n",
      "https://www.youtube.com/watch?v=ihsBMhgDdfI not working\n",
      "https://www.youtube.com/watch?v=ogoAmLSDmgY not working\n",
      "https://www.youtube.com/watch?v=YVbYeQ2gun0 not working\n",
      "https://www.youtube.com/watch?v=RZAhjgeFPhU not working\n",
      "https://www.youtube.com/watch?v=CI4bScbHlr0 not working\n",
      "https://www.youtube.com/watch?v=Uxrm0zCMQ28 not working\n",
      "https://www.youtube.com/watch?v=xGHuH1E3ON4 not working\n",
      "https://www.youtube.com/watch?v=jkrChs-T6qw not working\n",
      "https://www.youtube.com/watch?v=CJrNQiMbSFA not working\n",
      "https://www.youtube.com/watch?v=d5KTqquApiU not working\n",
      "https://www.youtube.com/watch?v=AN-8v8qmbmE not working\n",
      "https://www.youtube.com/watch?v=ibTrMnvPjcE not working\n",
      "https://www.youtube.com/watch?v=AVU1yHfbYP4 not working\n",
      "https://www.youtube.com/watch?v=rRta71NY5-s not working\n",
      "[youtube] SvFFHcbGeAc: Downloading webpage\n",
      "[youtube] SvFFHcbGeAc: Downloading video info webpage\n",
      "[download] Destination: /home/mickael/Documents/Datasets/drumsTranscription/ADTOF/Transcriptions [By Alex Rudinger]/03 ObscuraOBSCURA - 'Ocean Gateways' (Official Track).webm\n",
      "[download]   0.0% of 5.50MiB at 764.13KiB/s ETA 00:07"
     ]
    }
   ],
   "source": [
    "folderPath = \"/home/mickael/Documents/Datasets/drumsTranscription/ADTOF/Transcriptions [By Alex Rudinger]/\"\n",
    "csvPath = folderPath+\"youtube links - Sheet1.csv\"\n",
    "\n",
    "with open(csvPath) as csvFile:\n",
    "    for i ,row in enumerate(csv.reader(csvFile)):\n",
    "        if i == 0:\n",
    "            continue\n",
    "        folder = row[0] if row[0] else folder\n",
    "        track  = row[1] if row[1] else track\n",
    "        url = row[2]\n",
    "        \n",
    "        if url and row[3] != \"meh\":\n",
    "            try:\n",
    "                downloaders.downloadYoutube(url = url, folder=folderPath+folder+\"/audio/\")\n",
    "                print(row, \"downloaded !\")\n",
    "            except:\n",
    "                print(url, \"not working\")\n"
   ]
  },
  {
   "cell_type": "code",
   "execution_count": null,
   "metadata": {},
   "outputs": [],
   "source": []
  }
 ],
 "metadata": {
  "kernelspec": {
   "display_name": "Python 3",
   "language": "python",
   "name": "python3"
  },
  "language_info": {
   "codemirror_mode": {
    "name": "ipython",
    "version": 3
   },
   "file_extension": ".py",
   "mimetype": "text/x-python",
   "name": "python",
   "nbconvert_exporter": "python",
   "pygments_lexer": "ipython3",
   "version": "3.6.8"
  }
 },
 "nbformat": 4,
 "nbformat_minor": 2
}
