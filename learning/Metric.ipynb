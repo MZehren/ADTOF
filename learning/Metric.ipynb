{
 "cells": [
  {
   "cell_type": "code",
   "execution_count": 11,
   "metadata": {},
   "outputs": [
    {
     "name": "stdout",
     "output_type": "stream",
     "text": [
      "Final result:  0.5\n"
     ]
    }
   ],
   "source": [
    "\"\"\"Precision\"\"\"\n",
    "import tensorflow as tf \n",
    "\n",
    "m = tf.keras.metrics.Precision()\n",
    "m.update_state([[0, 1], [0, 1]], [[1, 0.6], [0, 0]])\n",
    "print('Final result: ', m.result().numpy())  # Final result: 0.66\n"
   ]
  },
  {
   "cell_type": "code",
   "execution_count": null,
   "metadata": {},
   "outputs": [],
   "source": []
  },
  {
   "cell_type": "code",
   "execution_count": null,
   "metadata": {},
   "outputs": [],
   "source": []
  }
 ],
 "metadata": {
  "kernelspec": {
   "display_name": "Python 3",
   "language": "python",
   "name": "python3"
  },
  "language_info": {
   "codemirror_mode": {
    "name": "ipython",
    "version": 3
   },
   "file_extension": ".py",
   "mimetype": "text/x-python",
   "name": "python",
   "nbconvert_exporter": "python",
   "pygments_lexer": "ipython3",
   "version": "3.5.2"
  }
 },
 "nbformat": 4,
 "nbformat_minor": 2
}
